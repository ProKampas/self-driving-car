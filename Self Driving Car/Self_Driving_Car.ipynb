{
  "nbformat": 4,
  "nbformat_minor": 0,
  "metadata": {
    "colab": {
      "name": "Self Driving Car.ipynb",
      "provenance": [],
      "collapsed_sections": [],
      "toc_visible": true
    },
    "kernelspec": {
      "name": "python3",
      "display_name": "Python 3"
    },
    "accelerator": "GPU"
  },
  "cells": [
    {
      "cell_type": "code",
      "metadata": {
        "id": "lfIzh3JEBEXH",
        "colab": {
          "base_uri": "https://localhost:8080/",
          "height": 0
        },
        "outputId": "9462e187-d1ce-4107-bf9d-6cbe26d87f4c"
      },
      "source": [
        "!git clone https://github.com/ProKampas/self-driving-car.git\r\n"
      ],
      "execution_count": 30,
      "outputs": [
        {
          "output_type": "stream",
          "text": [
            "Cloning into 'self-driving-car'...\n",
            "remote: Enumerating objects: 15481, done.\u001b[K\n",
            "remote: Counting objects: 100% (15481/15481), done.\u001b[K\n",
            "remote: Compressing objects: 100% (15480/15480), done.\u001b[K\n",
            "remote: Total 50797 (delta 2), reused 15478 (delta 1), pack-reused 35316\n",
            "Receiving objects: 100% (50797/50797), 734.03 MiB | 38.28 MiB/s, done.\n",
            "Resolving deltas: 100% (5/5), done.\n",
            "Checking out files: 100% (12659/12659), done.\n"
          ],
          "name": "stdout"
        }
      ]
    },
    {
      "cell_type": "code",
      "metadata": {
        "id": "jDdQpL9nSHrO"
      },
      "source": [
        "import os\r\n",
        "import ntpath\r\n",
        "\r\n",
        "import numpy as np\r\n",
        "import matplotlib.pyplot as plt\r\n",
        "import matplotlib.image as mpimg\r\n",
        "\r\n",
        "from keras.models import Sequential\r\n",
        "from keras.optimizers import Adam\r\n",
        "from keras.layers import Convolution2D, MaxPooling2D, Dropout, Flatten, Dense\r\n",
        "from keras.callbacks import ModelCheckpoint\r\n",
        "\r\n",
        "from sklearn.utils import shuffle\r\n",
        "from sklearn.model_selection import train_test_split\r\n",
        "\r\n",
        "import cv2\r\n",
        "\r\n",
        "import pandas as pd\r\n",
        "import random\r\n",
        "\r\n",
        "from imgaug import augmenters as iaa"
      ],
      "execution_count": 51,
      "outputs": []
    },
    {
      "cell_type": "code",
      "metadata": {
        "colab": {
          "base_uri": "https://localhost:8080/",
          "height": 428
        },
        "id": "_Z7yFQqvSiDI",
        "outputId": "851c721f-e651-41db-892a-b342e51c3d95"
      },
      "source": [
        "data_dir = 'self-driving-car/Udacity_Train_Data'\r\n",
        "columns = ['center', 'left', 'right', 'steering', 'throttle', 'reverse', 'speed']\r\n",
        "data = pd.read_csv(os.path.join(data_dir, 'driving_log.csv'), names= columns)\r\n",
        "pd.set_option('display.max_colwidth', -1)\r\n",
        "data.head()"
      ],
      "execution_count": 32,
      "outputs": [
        {
          "output_type": "stream",
          "text": [
            "/usr/local/lib/python3.6/dist-packages/ipykernel_launcher.py:5: FutureWarning: Passing a negative integer is deprecated in version 1.0 and will not be supported in future version. Instead, use None to not limit the column width.\n",
            "  \"\"\"\n"
          ],
          "name": "stderr"
        },
        {
          "output_type": "execute_result",
          "data": {
            "text/html": [
              "<div>\n",
              "<style scoped>\n",
              "    .dataframe tbody tr th:only-of-type {\n",
              "        vertical-align: middle;\n",
              "    }\n",
              "\n",
              "    .dataframe tbody tr th {\n",
              "        vertical-align: top;\n",
              "    }\n",
              "\n",
              "    .dataframe thead th {\n",
              "        text-align: right;\n",
              "    }\n",
              "</style>\n",
              "<table border=\"1\" class=\"dataframe\">\n",
              "  <thead>\n",
              "    <tr style=\"text-align: right;\">\n",
              "      <th></th>\n",
              "      <th>center</th>\n",
              "      <th>left</th>\n",
              "      <th>right</th>\n",
              "      <th>steering</th>\n",
              "      <th>throttle</th>\n",
              "      <th>reverse</th>\n",
              "      <th>speed</th>\n",
              "    </tr>\n",
              "  </thead>\n",
              "  <tbody>\n",
              "    <tr>\n",
              "      <th>0</th>\n",
              "      <td>C:\\Users\\prote\\Documents\\Udemy\\The Complete Self-Driving Car Course\\self-driving-car\\Udacity_Train_Data\\IMG\\center_2020_12_26_15_04_20_022.jpg</td>\n",
              "      <td>C:\\Users\\prote\\Documents\\Udemy\\The Complete Self-Driving Car Course\\self-driving-car\\Udacity_Train_Data\\IMG\\left_2020_12_26_15_04_20_022.jpg</td>\n",
              "      <td>C:\\Users\\prote\\Documents\\Udemy\\The Complete Self-Driving Car Course\\self-driving-car\\Udacity_Train_Data\\IMG\\right_2020_12_26_15_04_20_022.jpg</td>\n",
              "      <td>0.000000</td>\n",
              "      <td>0.0</td>\n",
              "      <td>0.0</td>\n",
              "      <td>0.000079</td>\n",
              "    </tr>\n",
              "    <tr>\n",
              "      <th>1</th>\n",
              "      <td>C:\\Users\\prote\\Documents\\Udemy\\The Complete Self-Driving Car Course\\self-driving-car\\Udacity_Train_Data\\IMG\\center_2020_12_26_15_04_20_126.jpg</td>\n",
              "      <td>C:\\Users\\prote\\Documents\\Udemy\\The Complete Self-Driving Car Course\\self-driving-car\\Udacity_Train_Data\\IMG\\left_2020_12_26_15_04_20_126.jpg</td>\n",
              "      <td>C:\\Users\\prote\\Documents\\Udemy\\The Complete Self-Driving Car Course\\self-driving-car\\Udacity_Train_Data\\IMG\\right_2020_12_26_15_04_20_126.jpg</td>\n",
              "      <td>0.000000</td>\n",
              "      <td>0.0</td>\n",
              "      <td>0.0</td>\n",
              "      <td>0.000085</td>\n",
              "    </tr>\n",
              "    <tr>\n",
              "      <th>2</th>\n",
              "      <td>C:\\Users\\prote\\Documents\\Udemy\\The Complete Self-Driving Car Course\\self-driving-car\\Udacity_Train_Data\\IMG\\center_2020_12_26_15_04_20_228.jpg</td>\n",
              "      <td>C:\\Users\\prote\\Documents\\Udemy\\The Complete Self-Driving Car Course\\self-driving-car\\Udacity_Train_Data\\IMG\\left_2020_12_26_15_04_20_228.jpg</td>\n",
              "      <td>C:\\Users\\prote\\Documents\\Udemy\\The Complete Self-Driving Car Course\\self-driving-car\\Udacity_Train_Data\\IMG\\right_2020_12_26_15_04_20_228.jpg</td>\n",
              "      <td>0.000000</td>\n",
              "      <td>0.0</td>\n",
              "      <td>0.0</td>\n",
              "      <td>0.000079</td>\n",
              "    </tr>\n",
              "    <tr>\n",
              "      <th>3</th>\n",
              "      <td>C:\\Users\\prote\\Documents\\Udemy\\The Complete Self-Driving Car Course\\self-driving-car\\Udacity_Train_Data\\IMG\\center_2020_12_26_15_04_20_330.jpg</td>\n",
              "      <td>C:\\Users\\prote\\Documents\\Udemy\\The Complete Self-Driving Car Course\\self-driving-car\\Udacity_Train_Data\\IMG\\left_2020_12_26_15_04_20_330.jpg</td>\n",
              "      <td>C:\\Users\\prote\\Documents\\Udemy\\The Complete Self-Driving Car Course\\self-driving-car\\Udacity_Train_Data\\IMG\\right_2020_12_26_15_04_20_330.jpg</td>\n",
              "      <td>-0.161302</td>\n",
              "      <td>0.0</td>\n",
              "      <td>0.0</td>\n",
              "      <td>0.000085</td>\n",
              "    </tr>\n",
              "    <tr>\n",
              "      <th>4</th>\n",
              "      <td>C:\\Users\\prote\\Documents\\Udemy\\The Complete Self-Driving Car Course\\self-driving-car\\Udacity_Train_Data\\IMG\\center_2020_12_26_15_04_20_432.jpg</td>\n",
              "      <td>C:\\Users\\prote\\Documents\\Udemy\\The Complete Self-Driving Car Course\\self-driving-car\\Udacity_Train_Data\\IMG\\left_2020_12_26_15_04_20_432.jpg</td>\n",
              "      <td>C:\\Users\\prote\\Documents\\Udemy\\The Complete Self-Driving Car Course\\self-driving-car\\Udacity_Train_Data\\IMG\\right_2020_12_26_15_04_20_432.jpg</td>\n",
              "      <td>-0.453181</td>\n",
              "      <td>0.0</td>\n",
              "      <td>0.0</td>\n",
              "      <td>0.000094</td>\n",
              "    </tr>\n",
              "  </tbody>\n",
              "</table>\n",
              "</div>"
            ],
            "text/plain": [
              "                                                                                                                                           center  ...     speed\n",
              "0  C:\\Users\\prote\\Documents\\Udemy\\The Complete Self-Driving Car Course\\self-driving-car\\Udacity_Train_Data\\IMG\\center_2020_12_26_15_04_20_022.jpg  ...  0.000079\n",
              "1  C:\\Users\\prote\\Documents\\Udemy\\The Complete Self-Driving Car Course\\self-driving-car\\Udacity_Train_Data\\IMG\\center_2020_12_26_15_04_20_126.jpg  ...  0.000085\n",
              "2  C:\\Users\\prote\\Documents\\Udemy\\The Complete Self-Driving Car Course\\self-driving-car\\Udacity_Train_Data\\IMG\\center_2020_12_26_15_04_20_228.jpg  ...  0.000079\n",
              "3  C:\\Users\\prote\\Documents\\Udemy\\The Complete Self-Driving Car Course\\self-driving-car\\Udacity_Train_Data\\IMG\\center_2020_12_26_15_04_20_330.jpg  ...  0.000085\n",
              "4  C:\\Users\\prote\\Documents\\Udemy\\The Complete Self-Driving Car Course\\self-driving-car\\Udacity_Train_Data\\IMG\\center_2020_12_26_15_04_20_432.jpg  ...  0.000094\n",
              "\n",
              "[5 rows x 7 columns]"
            ]
          },
          "metadata": {
            "tags": []
          },
          "execution_count": 32
        }
      ]
    },
    {
      "cell_type": "code",
      "metadata": {
        "id": "---mOj5bTOVG"
      },
      "source": [
        "def path_leaf(path):\r\n",
        "    head, tail = ntpath.split(path)\r\n",
        "    return tail\r\n"
      ],
      "execution_count": 33,
      "outputs": []
    },
    {
      "cell_type": "code",
      "metadata": {
        "colab": {
          "base_uri": "https://localhost:8080/",
          "height": 204
        },
        "id": "bDdPg0DiUu0d",
        "outputId": "d6f556c8-22eb-4727-a523-1007e8557c61"
      },
      "source": [
        "data['center'] = data['center'].apply(path_leaf)\r\n",
        "data['left'] = data['left'].apply(path_leaf)\r\n",
        "data['right'] = data['right'].vapply(path_leaf)\r\n",
        "data.head()"
      ],
      "execution_count": 34,
      "outputs": [
        {
          "output_type": "execute_result",
          "data": {
            "text/html": [
              "<div>\n",
              "<style scoped>\n",
              "    .dataframe tbody tr th:only-of-type {\n",
              "        vertical-align: middle;\n",
              "    }\n",
              "\n",
              "    .dataframe tbody tr th {\n",
              "        vertical-align: top;\n",
              "    }\n",
              "\n",
              "    .dataframe thead th {\n",
              "        text-align: right;\n",
              "    }\n",
              "</style>\n",
              "<table border=\"1\" class=\"dataframe\">\n",
              "  <thead>\n",
              "    <tr style=\"text-align: right;\">\n",
              "      <th></th>\n",
              "      <th>center</th>\n",
              "      <th>left</th>\n",
              "      <th>right</th>\n",
              "      <th>steering</th>\n",
              "      <th>throttle</th>\n",
              "      <th>reverse</th>\n",
              "      <th>speed</th>\n",
              "    </tr>\n",
              "  </thead>\n",
              "  <tbody>\n",
              "    <tr>\n",
              "      <th>0</th>\n",
              "      <td>center_2020_12_26_15_04_20_022.jpg</td>\n",
              "      <td>left_2020_12_26_15_04_20_022.jpg</td>\n",
              "      <td>right_2020_12_26_15_04_20_022.jpg</td>\n",
              "      <td>0.000000</td>\n",
              "      <td>0.0</td>\n",
              "      <td>0.0</td>\n",
              "      <td>0.000079</td>\n",
              "    </tr>\n",
              "    <tr>\n",
              "      <th>1</th>\n",
              "      <td>center_2020_12_26_15_04_20_126.jpg</td>\n",
              "      <td>left_2020_12_26_15_04_20_126.jpg</td>\n",
              "      <td>right_2020_12_26_15_04_20_126.jpg</td>\n",
              "      <td>0.000000</td>\n",
              "      <td>0.0</td>\n",
              "      <td>0.0</td>\n",
              "      <td>0.000085</td>\n",
              "    </tr>\n",
              "    <tr>\n",
              "      <th>2</th>\n",
              "      <td>center_2020_12_26_15_04_20_228.jpg</td>\n",
              "      <td>left_2020_12_26_15_04_20_228.jpg</td>\n",
              "      <td>right_2020_12_26_15_04_20_228.jpg</td>\n",
              "      <td>0.000000</td>\n",
              "      <td>0.0</td>\n",
              "      <td>0.0</td>\n",
              "      <td>0.000079</td>\n",
              "    </tr>\n",
              "    <tr>\n",
              "      <th>3</th>\n",
              "      <td>center_2020_12_26_15_04_20_330.jpg</td>\n",
              "      <td>left_2020_12_26_15_04_20_330.jpg</td>\n",
              "      <td>right_2020_12_26_15_04_20_330.jpg</td>\n",
              "      <td>-0.161302</td>\n",
              "      <td>0.0</td>\n",
              "      <td>0.0</td>\n",
              "      <td>0.000085</td>\n",
              "    </tr>\n",
              "    <tr>\n",
              "      <th>4</th>\n",
              "      <td>center_2020_12_26_15_04_20_432.jpg</td>\n",
              "      <td>left_2020_12_26_15_04_20_432.jpg</td>\n",
              "      <td>right_2020_12_26_15_04_20_432.jpg</td>\n",
              "      <td>-0.453181</td>\n",
              "      <td>0.0</td>\n",
              "      <td>0.0</td>\n",
              "      <td>0.000094</td>\n",
              "    </tr>\n",
              "  </tbody>\n",
              "</table>\n",
              "</div>"
            ],
            "text/plain": [
              "                               center  ...     speed\n",
              "0  center_2020_12_26_15_04_20_022.jpg  ...  0.000079\n",
              "1  center_2020_12_26_15_04_20_126.jpg  ...  0.000085\n",
              "2  center_2020_12_26_15_04_20_228.jpg  ...  0.000079\n",
              "3  center_2020_12_26_15_04_20_330.jpg  ...  0.000085\n",
              "4  center_2020_12_26_15_04_20_432.jpg  ...  0.000094\n",
              "\n",
              "[5 rows x 7 columns]"
            ]
          },
          "metadata": {
            "tags": []
          },
          "execution_count": 34
        }
      ]
    },
    {
      "cell_type": "code",
      "metadata": {
        "id": "_9K2LihLU9SD",
        "colab": {
          "base_uri": "https://localhost:8080/",
          "height": 282
        },
        "outputId": "66b13edd-4527-4dd8-9392-ec2435703f03"
      },
      "source": [
        "num_bins = 25\r\n",
        "samples_per_bin = 800\r\n",
        "\r\n",
        "hist, bins = np.histogram(data['steering'], num_bins)\r\n",
        "\r\n",
        "center = (bins[:-1] + bins[1:]) / 2.0\r\n",
        "\r\n",
        "plt.bar(center, hist, width=0.05)\r\n",
        "\r\n",
        "plt.plot((np.min(data['steering']), np.max(data['steering'])), (samples_per_bin, samples_per_bin))"
      ],
      "execution_count": 35,
      "outputs": [
        {
          "output_type": "execute_result",
          "data": {
            "text/plain": [
              "[<matplotlib.lines.Line2D at 0x7f2127e150b8>]"
            ]
          },
          "metadata": {
            "tags": []
          },
          "execution_count": 35
        },
        {
          "output_type": "display_data",
          "data": {
            "image/png": "[encoded data removed]",
            "text/plain": [
              "<Figure size 432x288 with 1 Axes>"
            ]
          },
          "metadata": {
            "tags": [],
            "needs_background": "light"
          }
        }
      ]
    },
    {
      "cell_type": "code",
      "metadata": {
        "colab": {
          "base_uri": "https://localhost:8080/",
          "height": 333
        },
        "id": "1WBHrNVuZcIl",
        "outputId": "7f2552da-3a5c-4ea9-9780-a31791b8ef50"
      },
      "source": [
        "print('total: ', len(data))\r\n",
        "remove_list = []\r\n",
        "\r\n",
        "for j in range(num_bins):\r\n",
        "  list_ = []\r\n",
        "  for i in range(len(data['steering'])):\r\n",
        "    if data['steering'][i] >= bins[j]  and  data['steering'][i] < bins[j+1]:\r\n",
        "      list_.append(i)\r\n",
        "    \r\n",
        "  list_ = shuffle(list_)\r\n",
        "  list_ = list_[samples_per_bin:]\r\n",
        "\r\n",
        "  remove_list.extend(list_)\r\n",
        "\r\n",
        "print('removed: ', len(remove_list))\r\n",
        "data.drop(data.index[remove_list], inplace=True)\r\n",
        "\r\n",
        "print('Remaining: ', len(data))\r\n",
        "\r\n",
        "hist, _ = np.histogram(data['steering'], num_bins)\r\n",
        "\r\n",
        "plt.bar(center, hist, width=0.05)\r\n",
        "\r\n",
        "plt.plot((np.min(data['steering']), np.max(data['steering'])), (samples_per_bin, samples_per_bin))"
      ],
      "execution_count": 36,
      "outputs": [
        {
          "output_type": "stream",
          "text": [
            "total:  4219\n",
            "removed:  2396\n",
            "Remaining:  1823\n"
          ],
          "name": "stdout"
        },
        {
          "output_type": "execute_result",
          "data": {
            "text/plain": [
              "[<matplotlib.lines.Line2D at 0x7f2127be3438>]"
            ]
          },
          "metadata": {
            "tags": []
          },
          "execution_count": 36
        },
        {
          "output_type": "display_data",
          "data": {
            "image/png": "[encoded data removed]",
            "text/plain": [
              "<Figure size 432x288 with 1 Axes>"
            ]
          },
          "metadata": {
            "tags": [],
            "needs_background": "light"
          }
        }
      ]
    },
    {
      "cell_type": "code",
      "metadata": {
        "id": "6xfejt69caXy"
      },
      "source": [
        "def load_dataset(dir, df):\r\n",
        "  imgs = []\r\n",
        "  steering = []\r\n",
        "\r\n",
        "  for i in range(len(df)):\r\n",
        "    indx_data = df.iloc[i]\r\n",
        "    \r\n",
        "    center, left, right = indx_data[0], indx_data[1], indx_data[2]\r\n",
        "\r\n",
        "    choice = np.random.choice(3)\r\n",
        "\r\n",
        "    if choice == 0:\r\n",
        "      imgs.append(os.path.join(dir, center.strip()))\r\n",
        "      steering.append(float(indx_data[3]))\r\n",
        "    elif choice == 1:\r\n",
        "      imgs.append(os.path.join(dir, left.strip()))\r\n",
        "      steering.append(float(indx_data[3]) + 0.2)\r\n",
        "    else:\r\n",
        "      imgs.append(os.path.join(dir, right.strip()))\r\n",
        "      steering.append(float(indx_data[3]) - 0.2)\r\n",
        "\r\n",
        "  imgs = np.asarray(imgs)\r\n",
        "  steering = np.asarray(steering)\r\n",
        "\r\n",
        "  return imgs, steering"
      ],
      "execution_count": 37,
      "outputs": []
    },
    {
      "cell_type": "code",
      "metadata": {
        "colab": {
          "base_uri": "https://localhost:8080/",
          "height": 0
        },
        "id": "gb3XOoC7o06P",
        "outputId": "1f6ddd83-32ac-4089-944c-3c41e9d4e504"
      },
      "source": [
        "imgs, steering = load_dataset(data_dir + '/IMG', data)\r\n",
        "\r\n",
        "X_train, X_val, y_train, y_val = train_test_split(imgs, steering, test_size=0.2, random_state=6)\r\n",
        "print(X_train.shape, X_val.shape, y_train.shape, y_val.shape)"
      ],
      "execution_count": 38,
      "outputs": [
        {
          "output_type": "stream",
          "text": [
            "(1458,) (365,) (1458,) (365,)\n"
          ],
          "name": "stdout"
        }
      ]
    },
    {
      "cell_type": "code",
      "metadata": {
        "colab": {
          "base_uri": "https://localhost:8080/",
          "height": 418
        },
        "id": "M1w6ntBpp0OV",
        "outputId": "5e3851d5-54ea-4566-f4e7-9af25507e4cb"
      },
      "source": [
        "fig, axes = plt.subplots(nrows=1, ncols=2, figsize=(12,4))\r\n",
        "axes[0].hist(y_train, bins=25, width=0.05, color='blue')\r\n",
        "axes[1].hist(y_val, bins=25, width=0.05, color='red')"
      ],
      "execution_count": 39,
      "outputs": [
        {
          "output_type": "execute_result",
          "data": {
            "text/plain": [
              "(array([ 1.,  0.,  0.,  1.,  3.,  2.,  4.,  9., 10.,  9., 70., 25., 18.,\n",
              "        84., 17., 68.,  8., 13.,  7.,  8.,  2.,  1.,  2.,  2.,  1.]),\n",
              " array([-1.        , -0.9242252 , -0.84845039, -0.77267559, -0.69690078,\n",
              "        -0.62112598, -0.54535118, -0.46957637, -0.39380157, -0.31802676,\n",
              "        -0.24225196, -0.16647716, -0.09070235, -0.01492755,  0.06084726,\n",
              "         0.13662206,  0.21239686,  0.28817167,  0.36394647,  0.43972128,\n",
              "         0.51549608,  0.59127088,  0.66704569,  0.74282049,  0.8185953 ,\n",
              "         0.8943701 ]),\n",
              " <a list of 25 Patch objects>)"
            ]
          },
          "metadata": {
            "tags": []
          },
          "execution_count": 39
        },
        {
          "output_type": "display_data",
          "data": {
            "image/png": "[encoded data removed]",
            "text/plain": [
              "<Figure size 864x288 with 2 Axes>"
            ]
          },
          "metadata": {
            "tags": [],
            "needs_background": "light"
          }
        }
      ]
    },
    {
      "cell_type": "code",
      "metadata": {
        "id": "S72x6Ju1SM15"
      },
      "source": [
        "def zoom(img):\r\n",
        "  zoom = iaa.Affine(scale=(1.0, 1.3))\r\n",
        "  img = zoom.augment_image(img)\r\n",
        "  return img\r\n",
        "\r\n",
        "def pan(img):\r\n",
        "  pan = iaa.Affine(translate_percent= {'x': (-0.1, 0.1), 'y': (-0.1, 0.1)})\r\n",
        "  img = pan.augment_image(img)\r\n",
        "  return img\r\n",
        "\r\n",
        "def brightness(img):\r\n",
        "  brightness = iaa.Multiply(mul=(0.2, 1.2))\r\n",
        "  img = brightness.augment_image(img)\r\n",
        "  return img\r\n",
        "\r\n",
        "def flip(img, steering_angle):\r\n",
        "  img = cv2.flip(img, 1)\r\n",
        "  steering_angle = -steering_angle\r\n",
        "  return img, steering_angle\r\n",
        "\r\n",
        "def rand_augment(img, steering_angle):\r\n",
        "\r\n",
        "  if np.random.rand() < 0.5:\r\n",
        "    img = zoom(img)\r\n",
        "  if np.random.rand() < 0.5:\r\n",
        "    img = pan(img)\r\n",
        "  if np.random.rand() < 0.5:\r\n",
        "    img = brightness(img)\r\n",
        "  if np.random.rand() < 0.5:\r\n",
        "    img, steering_angle = flip(img, steering_angle)\r\n",
        "  \r\n",
        "  return img, steering_angle\r\n",
        "  "
      ],
      "execution_count": 40,
      "outputs": []
    },
    {
      "cell_type": "code",
      "metadata": {
        "id": "c2dJNYNZYpDZ"
      },
      "source": [
        "def batch_generator(img_paths, steer_angles, batch_size, is_training):\r\n",
        "\r\n",
        "  while True:\r\n",
        "    batch_imgs = []\r\n",
        "    batch_steers = []\r\n",
        "\r\n",
        "    for i in range(batch_size):\r\n",
        "      random_index = random.randint(0, len(img_paths) - 1)\r\n",
        "\r\n",
        "      img = mpimg.imread(img_paths[random_index])\r\n",
        "\r\n",
        "      if is_training and np.random.rand() < 0.6:\r\n",
        "        img, steer_angle = rand_augment(img=img, steering_angle=steer_angles[random_index])\r\n",
        "      else:  \r\n",
        "        steer_angle = steer_angles[random_index]\r\n",
        "      \r\n",
        "      img = img_preprocess(img)\r\n",
        "\r\n",
        "      batch_imgs.append(img)\r\n",
        "      batch_steers.append(steer_angle) \r\n",
        "\r\n",
        "    yield (np.asarray(batch_imgs), np.asarray(batch_steers))"
      ],
      "execution_count": 41,
      "outputs": []
    },
    {
      "cell_type": "code",
      "metadata": {
        "id": "puKTdH41r9ks"
      },
      "source": [
        "def img_preprocess(img):\r\n",
        "  img = img[50:135, :, :]\r\n",
        "\r\n",
        "  img = cv2.cvtColor(img, cv2.COLOR_BGR2YUV)\r\n",
        "  img = cv2.GaussianBlur(img, (3,3), 0)  \r\n",
        "  img = cv2.resize(img, (200, 66))\r\n",
        "\r\n",
        "  img = img/127.5 - 1\r\n",
        "\r\n",
        "  return img"
      ],
      "execution_count": 42,
      "outputs": []
    },
    {
      "cell_type": "code",
      "metadata": {
        "id": "2AGNrD2-1U4j"
      },
      "source": [
        "def nvidia_model():\r\n",
        "  model = Sequential()\r\n",
        "  model.add(Convolution2D(filters=24, kernel_size=(5, 5), strides=(2, 2), input_shape=(66, 200, 3), activation='elu'))\r\n",
        "  model.add(Convolution2D(filters=36, kernel_size=(5, 5), strides=(2, 2), activation='elu'))\r\n",
        "  model.add(Convolution2D(filters=48, kernel_size=(5, 5), strides=(2, 2), activation='elu'))\r\n",
        "  model.add(Convolution2D(filters=64, kernel_size=(3, 3), activation='elu'))\r\n",
        "  model.add(Convolution2D(filters=64, kernel_size=(3, 3), activation='elu'))\r\n",
        "\r\n",
        "  model.add(Dropout(rate=0.5))\r\n",
        "\r\n",
        "  model.add(Flatten())\r\n",
        "\r\n",
        "  model.add(Dense(units=100, activation='elu'))\r\n",
        "  # model.add(Dropout(rate=0.5))\r\n",
        "  model.add(Dense(units=50, activation='elu'))\r\n",
        "  # model.add(Dropout(rate=0.5))\r\n",
        "\r\n",
        "  model.add(Dense(units=10, activation='elu'))\r\n",
        "  # model.add(Dropout(rate=0.5))\r\n",
        "\r\n",
        "  model.add(Dense(units=1))\r\n",
        "\r\n",
        "  model.compile(optimizer=Adam(lr=0.0001), loss='mse')\r\n",
        "\r\n",
        "  return model"
      ],
      "execution_count": 44,
      "outputs": []
    },
    {
      "cell_type": "code",
      "metadata": {
        "colab": {
          "base_uri": "https://localhost:8080/",
          "height": 0
        },
        "id": "ed1QwI7UANlv",
        "outputId": "f1710a7a-8bf8-441e-ce64-2adb7ab6794b"
      },
      "source": [
        "model = nvidia_model()\r\n",
        "print(model.summary())"
      ],
      "execution_count": 45,
      "outputs": [
        {
          "output_type": "stream",
          "text": [
            "Model: \"sequential_1\"\n",
            "_________________________________________________________________\n",
            "Layer (type)                 Output Shape              Param #   \n",
            "=================================================================\n",
            "conv2d_5 (Conv2D)            (None, 31, 98, 24)        1824      \n",
            "_________________________________________________________________\n",
            "conv2d_6 (Conv2D)            (None, 14, 47, 36)        21636     \n",
            "_________________________________________________________________\n",
            "conv2d_7 (Conv2D)            (None, 5, 22, 48)         43248     \n",
            "_________________________________________________________________\n",
            "conv2d_8 (Conv2D)            (None, 3, 20, 64)         27712     \n",
            "_________________________________________________________________\n",
            "conv2d_9 (Conv2D)            (None, 1, 18, 64)         36928     \n",
            "_________________________________________________________________\n",
            "dropout (Dropout)            (None, 1, 18, 64)         0         \n",
            "_________________________________________________________________\n",
            "flatten_1 (Flatten)          (None, 1152)              0         \n",
            "_________________________________________________________________\n",
            "dense_4 (Dense)              (None, 100)               115300    \n",
            "_________________________________________________________________\n",
            "dense_5 (Dense)              (None, 50)                5050      \n",
            "_________________________________________________________________\n",
            "dense_6 (Dense)              (None, 10)                510       \n",
            "_________________________________________________________________\n",
            "dense_7 (Dense)              (None, 1)                 11        \n",
            "=================================================================\n",
            "Total params: 252,219\n",
            "Trainable params: 252,219\n",
            "Non-trainable params: 0\n",
            "_________________________________________________________________\n",
            "None\n"
          ],
          "name": "stdout"
        }
      ]
    },
    {
      "cell_type": "code",
      "metadata": {
        "colab": {
          "base_uri": "https://localhost:8080/",
          "height": 0
        },
        "id": "g3P4-NTVA3Ao",
        "outputId": "739a0d75-0bb9-4770-bcfc-360ddd15a221"
      },
      "source": [
        "checkpoint = ModelCheckpoint('model-{epoch:03d}.h5',\r\n",
        "                              monitor='val_loss',\r\n",
        "                              verbose=0,\r\n",
        "                              save_best_only='true',\r\n",
        "                              mode='auto')\r\n",
        "\r\n",
        "# h = model.fit(X_train, y_train, epochs=30, validation_data=(X_val, y_val), batch_size=100, verbose=1, shuffle=True)\r\n",
        "\r\n",
        "h = model.fit_generator(batch_generator(X_train, y_train, 40, True), \r\n",
        "                        steps_per_epoch=2000,\r\n",
        "                        epochs=10, \r\n",
        "                        validation_data=batch_generator(X_val, y_val, 40, False), \r\n",
        "                        validation_steps=200,\r\n",
        "                        verbose=1, \r\n",
        "                        shuffle=True,\r\n",
        "                        callbacks=[checkpoint])"
      ],
      "execution_count": 46,
      "outputs": [
        {
          "output_type": "stream",
          "text": [
            "Epoch 1/10\n"
          ],
          "name": "stdout"
        },
        {
          "output_type": "stream",
          "text": [
            "/usr/local/lib/python3.6/dist-packages/tensorflow/python/keras/engine/training.py:1844: UserWarning: `Model.fit_generator` is deprecated and will be removed in a future version. Please use `Model.fit`, which supports generators.\n",
            "  warnings.warn('`Model.fit_generator` is deprecated and '\n"
          ],
          "name": "stderr"
        },
        {
          "output_type": "stream",
          "text": [
            "2000/2000 [==============================] - 335s 167ms/step - loss: 0.0382 - val_loss: 0.0236\n",
            "Epoch 2/10\n",
            "2000/2000 [==============================] - 333s 167ms/step - loss: 0.0247 - val_loss: 0.0229\n",
            "Epoch 3/10\n",
            "2000/2000 [==============================] - 332s 166ms/step - loss: 0.0203 - val_loss: 0.0235\n",
            "Epoch 4/10\n",
            "2000/2000 [==============================] - 340s 170ms/step - loss: 0.0185 - val_loss: 0.0239\n",
            "Epoch 5/10\n",
            "2000/2000 [==============================] - 335s 168ms/step - loss: 0.0167 - val_loss: 0.0225\n",
            "Epoch 6/10\n",
            "2000/2000 [==============================] - 332s 166ms/step - loss: 0.0154 - val_loss: 0.0241\n",
            "Epoch 7/10\n",
            "2000/2000 [==============================] - 341s 170ms/step - loss: 0.0147 - val_loss: 0.0225\n",
            "Epoch 8/10\n",
            "2000/2000 [==============================] - 336s 168ms/step - loss: 0.0137 - val_loss: 0.0247\n",
            "Epoch 9/10\n",
            "2000/2000 [==============================] - 338s 169ms/step - loss: 0.0141 - val_loss: 0.0230\n",
            "Epoch 10/10\n",
            "2000/2000 [==============================] - 336s 168ms/step - loss: 0.0132 - val_loss: 0.0233\n"
          ],
          "name": "stdout"
        }
      ]
    },
    {
      "cell_type": "code",
      "metadata": {
        "colab": {
          "base_uri": "https://localhost:8080/",
          "height": 312
        },
        "id": "6NBGNxMdD1qI",
        "outputId": "7e7263d1-1a98-4443-c35b-e06321b2b4f1"
      },
      "source": [
        "plt.plot(h.history['loss'])\r\n",
        "plt.plot(h.history['val_loss'])\r\n",
        "plt.legend(['train', 'val_data'])\r\n",
        "plt.title('loss')\r\n",
        "plt.xlabel('epoch')"
      ],
      "execution_count": 47,
      "outputs": [
        {
          "output_type": "execute_result",
          "data": {
            "text/plain": [
              "Text(0.5, 0, 'epoch')"
            ]
          },
          "metadata": {
            "tags": []
          },
          "execution_count": 47
        },
        {
          "output_type": "display_data",
          "data": {
            "image/png": "[encoded data removed]",
            "text/plain": [
              "<Figure size 432x288 with 1 Axes>"
            ]
          },
          "metadata": {
            "tags": [],
            "needs_background": "light"
          }
        }
      ]
    },
    {
      "cell_type": "code",
      "metadata": {
        "id": "kW_61i1jEQt8"
      },
      "source": [
        "model.save('model.h5')"
      ],
      "execution_count": 48,
      "outputs": []
    },
    {
      "cell_type": "code",
      "metadata": {
        "colab": {
          "base_uri": "https://localhost:8080/",
          "height": 17
        },
        "id": "IV3WotNyGBH5",
        "outputId": "688f8943-0fe7-494f-f624-6831f2ea7a81"
      },
      "source": [
        "from google.colab import files\r\n",
        "files.download('model.h5')"
      ],
      "execution_count": 49,
      "outputs": [
        {
          "output_type": "display_data",
          "data": {
            "application/javascript": [
              "\n",
              "    async function download(id, filename, size) {\n",
              "      if (!google.colab.kernel.accessAllowed) {\n",
              "        return;\n",
              "      }\n",
              "      const div = document.createElement('div');\n",
              "      const label = document.createElement('label');\n",
              "      label.textContent = `Downloading \"${filename}\": `;\n",
              "      div.appendChild(label);\n",
              "      const progress = document.createElement('progress');\n",
              "      progress.max = size;\n",
              "      div.appendChild(progress);\n",
              "      document.body.appendChild(div);\n",
              "\n",
              "      const buffers = [];\n",
              "      let downloaded = 0;\n",
              "\n",
              "      const channel = await google.colab.kernel.comms.open(id);\n",
              "      // Send a message to notify the kernel that we're ready.\n",
              "      channel.send({})\n",
              "\n",
              "      for await (const message of channel.messages) {\n",
              "        // Send a message to notify the kernel that we're ready.\n",
              "        channel.send({})\n",
              "        if (message.buffers) {\n",
              "          for (const buffer of message.buffers) {\n",
              "            buffers.push(buffer);\n",
              "            downloaded += buffer.byteLength;\n",
              "            progress.value = downloaded;\n",
              "          }\n",
              "        }\n",
              "      }\n",
              "      const blob = new Blob(buffers, {type: 'application/binary'});\n",
              "      const a = document.createElement('a');\n",
              "      a.href = window.URL.createObjectURL(blob);\n",
              "      a.download = filename;\n",
              "      div.appendChild(a);\n",
              "      a.click();\n",
              "      div.remove();\n",
              "    }\n",
              "  "
            ],
            "text/plain": [
              "<IPython.core.display.Javascript object>"
            ]
          },
          "metadata": {
            "tags": []
          }
        },
        {
          "output_type": "display_data",
          "data": {
            "application/javascript": [
              "download(\"download_50c000d6-0716-4a2f-8728-35d2a53ba29e\", \"model.h5\", 3106616)"
            ],
            "text/plain": [
              "<IPython.core.display.Javascript object>"
            ]
          },
          "metadata": {
            "tags": []
          }
        }
      ]
    },
    {
      "cell_type": "code",
      "metadata": {
        "id": "DOQ-aF8ZRQ0X"
      },
      "source": [
        ""
      ],
      "execution_count": 50,
      "outputs": []
    }
  ]
}